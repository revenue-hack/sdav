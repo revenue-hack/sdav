{
 "cells": [
  {
   "cell_type": "code",
   "execution_count": 1,
   "metadata": {},
   "outputs": [],
   "source": [
    "import sys\n",
    "sys.path.append('./../')\n",
    "import json\n",
    "import numpy as np\n",
    "from skimage import color\n",
    "from skimage import filters\n",
    "import util"
   ]
  },
  {
   "cell_type": "code",
   "execution_count": 2,
   "metadata": {},
   "outputs": [],
   "source": [
    "REQUEST = json.dumps({\n",
    "'path' : {},\n",
    "'args' : {}\n",
    "})"
   ]
  },
  {
   "cell_type": "markdown",
   "metadata": {},
   "source": [
    "# tellusAPIの画像を取得するだけのAPI"
   ]
  },
  {
   "cell_type": "code",
   "execution_count": 3,
   "metadata": {},
   "outputs": [
    {
     "name": "stdout",
     "output_type": "stream",
     "text": [
      "ERROR: Input format error. please input `/img/[img_type]/[z]/[x]/[y]`\n",
      "ex. http://localhost:8889/img/osm/13/7252/3234\n"
     ]
    }
   ],
   "source": [
    "# GET /img/:img_type/:z/:x/:y\n",
    "\n",
    "# 読み取り\n",
    "request = json.loads(REQUEST)\n",
    "\n",
    "# 必要項目抽出\n",
    "img_type = request['path'].get('img_type')\n",
    "x = request['path'].get('x')\n",
    "y = request['path'].get('y')\n",
    "z = request['path'].get('z')\n",
    "\n",
    "if util.input_validation_check(x, y, z, img_type):\n",
    "    img_np = util.get_image_using_tellus_api(x, y, z, img_type)\n",
    "    if len(img_np) != 0:\n",
    "        img_base64 = util.make_base64_image(img_np)\n",
    "        print('<html><img src=\"data:image/png;base64, {}\" /></html>'.format(img_base64))\n",
    "    else:\n",
    "        pass"
   ]
  },
  {
   "cell_type": "code",
   "execution_count": 4,
   "metadata": {},
   "outputs": [
    {
     "name": "stdout",
     "output_type": "stream",
     "text": [
      "{\"headers\": {\"Content-Type\": \"text/html\"}, \"status\": 201}\n"
     ]
    }
   ],
   "source": [
    "# ResponseInfo GET /img/:img_type/:z/:x/:y\n",
    "print(json.dumps({\"headers\" : {\"Content-Type\" : \"text/html\"},\"status\" : 201}))"
   ]
  },
  {
   "cell_type": "markdown",
   "metadata": {},
   "source": [
    "# 光学画像を元にNDSI画像を返すAPI"
   ]
  },
  {
   "cell_type": "code",
   "execution_count": 5,
   "metadata": {},
   "outputs": [],
   "source": [
    "def make_snow_filter(img_true):\n",
    "    \"\"\"明度を利用したフィルターを作成\"\"\"\n",
    "\n",
    "    # RGB画像からHSV画像への変換\n",
    "    img_hsv = color.rgb2hsv(img_true.astype(\"uint8\"))\n",
    "    img_v = img_hsv[:,:,2]\n",
    "\n",
    "    # 0で初期化\n",
    "    height, width= img_v.shape\n",
    "    snow_filter = np.zeros((height, width)) \n",
    "\n",
    "    # 閾値にもとづいて2値化\n",
    "    snow_filter = img_v < 70 / 255\n",
    "    \n",
    "    # RGBに変換\n",
    "    snow_filter = color.gray2rgb(snow_filter)\n",
    "    \n",
    "    return snow_filter"
   ]
  },
  {
   "cell_type": "code",
   "execution_count": 6,
   "metadata": {},
   "outputs": [],
   "source": [
    "def ditect_ndsi(img_band2, img_band4):\n",
    "    \"\"\"NDSI（Normalized Difference Snow Index）画像を作成\"\"\"\n",
    "    \n",
    "    # NDSIを計算\n",
    "    img_NDSI =  (img_band2[:,:,1] - img_band4[:,:,1]) / (img_band2[:,:,1] + img_band4[:,:,1])\n",
    "    \n",
    "    #最大と最小を設定し、0~1に正規化\n",
    "    img_NDSI = np.clip(img_NDSI + 0.3, 0, 1)\n",
    "    \n",
    "    # grayからRGBに変換\n",
    "    height, width= img_NDSI.shape\n",
    "    img_NDSI_rgb = np.zeros((height, width, 3))\n",
    "    img_NDSI_rgb[:,:,0] = 0\n",
    "    img_NDSI_rgb[:,:,1] = img_NDSI * 255 \n",
    "    img_NDSI_rgb[:,:,2] = 255\n",
    "    \n",
    "    return img_NDSI_rgb"
   ]
  },
  {
   "cell_type": "code",
   "execution_count": 7,
   "metadata": {},
   "outputs": [
    {
     "name": "stdout",
     "output_type": "stream",
     "text": [
      "ERROR: Input format error. please input `/img/[img_type]/[z]/[x]/[y]`\n",
      "ex. http://localhost:8889/img/osm/13/7252/3234\n"
     ]
    }
   ],
   "source": [
    "# GET /ndsi_img/:z/:x/:y\n",
    "\n",
    "# 読み取り\n",
    "request = json.loads(REQUEST)\n",
    "\n",
    "# 必要項目抽出\n",
    "x = request['path'].get('x')\n",
    "y = request['path'].get('y')\n",
    "z = request['path'].get('z')\n",
    "# z=\"13\"\n",
    "# x=\"7252\"\n",
    "# y=\"3234\"\n",
    "\n",
    "if util.input_validation_check(x, y, z):\n",
    "\n",
    "    #データ取得\n",
    "    img_band1 = util.get_image_using_tellus_api(x, y, z, \"band1\")\n",
    "    img_band2 = util.get_image_using_tellus_api(x, y, z, \"band2\")\n",
    "    img_band3 = util.get_image_using_tellus_api(x, y, z, \"band3\")\n",
    "    img_band4 = util.get_image_using_tellus_api(x, y, z, \"band4\")\n",
    "    img_true = np.c_[img_band3[:,:,0:1], img_band2[:,:,1:2], img_band1[:,:,2:3]]\n",
    "    \n",
    "    #フィルター作成\n",
    "    snow_filter = make_snow_filter(img_true)\n",
    "    \n",
    "    #NDSI画像取得\n",
    "    img_ndsi = ditect_ndsi(img_band2, img_band4)\n",
    "    \n",
    "    #フィルター適用\n",
    "    img_output = img_true * snow_filter + img_ndsi * (1- snow_filter)\n",
    "    \n",
    "    # 表示のために型変換\n",
    "    img_output_base64 = util.make_base64_image(img_output.astype(\"uint8\"))\n",
    "\n",
    "    # 出力\n",
    "    print('<html><img src=\"data:image/png;base64, {}\" /></html>'.format(img_output_base64))\n"
   ]
  },
  {
   "cell_type": "code",
   "execution_count": 8,
   "metadata": {},
   "outputs": [
    {
     "name": "stdout",
     "output_type": "stream",
     "text": [
      "{\"headers\": {\"Content-Type\": \"text/html\"}, \"status\": 201}\n"
     ]
    }
   ],
   "source": [
    "# ResponseInfo GET  /ndsi_img/:z/:x/:y\n",
    "print(json.dumps({\"headers\" : {\"Content-Type\" : \"text/html\"},\"status\" : 201}))"
   ]
  },
  {
   "cell_type": "markdown",
   "metadata": {},
   "source": [
    "# SAR画像を元に解析結果を返すAPI"
   ]
  },
  {
   "cell_type": "code",
   "execution_count": 9,
   "metadata": {},
   "outputs": [],
   "source": [
    "def analysis_sar_diff(img_fuji_sep, img_fuji_dec):\n",
    "    #差分を抽出\n",
    "    img_fuji_diff =  img_fuji_sep - img_fuji_dec\n",
    "\n",
    "    #ノイズ除去\n",
    "    img_fuji_diff_gaus = filters.gaussian(img_fuji_diff, sigma=8)\n",
    "\n",
    "    #正規化\n",
    "    img_fuji_diff_gaus_norm = np.clip( img_fuji_diff_gaus * 10 ** 20 , 0, 255)\n",
    "\n",
    "    # grayからRGBに変換\n",
    "    height, width= img_fuji_diff_gaus_norm.shape\n",
    "    img_output = np.zeros((height, width, 3))\n",
    "    img_output[:,:,0] = 127\n",
    "    img_output[:,:,1] = img_fuji_diff_gaus_norm\n",
    "    img_output[:,:,2] = 255\n",
    "    \n",
    "    return img_output"
   ]
  },
  {
   "cell_type": "code",
   "execution_count": 10,
   "metadata": {},
   "outputs": [
    {
     "name": "stderr",
     "output_type": "stream",
     "text": [
      "/opt/conda/lib/python3.6/site-packages/skimage/util/dtype.py:141: UserWarning: Possible precision loss when converting from int64 to float64\n",
      "  .format(dtypeobj_in, dtypeobj_out))\n",
      "IOPub data rate exceeded.\n",
      "The notebook server will temporarily stop sending output\n",
      "to the client in order to avoid crashing it.\n",
      "To change this limit, set the config variable\n",
      "`--NotebookApp.iopub_data_rate_limit`.\n",
      "\n",
      "Current values:\n",
      "NotebookApp.iopub_data_rate_limit=1000000.0 (bytes/sec)\n",
      "NotebookApp.rate_limit_window=3.0 (secs)\n",
      "\n"
     ]
    }
   ],
   "source": [
    "# GET /sar_analysis_img\n",
    "\n",
    "# 読み取り\n",
    "request = json.loads(REQUEST)\n",
    "\n",
    "img_fuji_sep, img_fuji_dec = util.get_local_sar_image()\n",
    "\n",
    "img_output = analysis_sar_diff(img_fuji_sep, img_fuji_dec)\n",
    "\n",
    "# 表示のために型変換\n",
    "img_output_base64 = util.make_base64_image(img_output.astype(\"uint8\"))\n",
    "\n",
    "# 出力\n",
    "print('<html><img src=\"data:image/png;base64, {}\" /></html>'.format(img_output_base64))"
   ]
  },
  {
   "cell_type": "code",
   "execution_count": 11,
   "metadata": {},
   "outputs": [
    {
     "name": "stdout",
     "output_type": "stream",
     "text": [
      "{\"headers\": {\"Content-Type\": \"text/html\"}, \"status\": 201}\n"
     ]
    }
   ],
   "source": [
    "# ResponseInfo GET  /sar_analysis_img\n",
    "print(json.dumps({\"headers\" : {\"Content-Type\" : \"text/html\"},\"status\" : 201}))"
   ]
  }
 ],
 "metadata": {
  "kernelspec": {
   "display_name": "Python 3",
   "language": "python",
   "name": "python3"
  },
  "language_info": {
   "codemirror_mode": {
    "name": "ipython",
    "version": 3
   },
   "file_extension": ".py",
   "mimetype": "text/x-python",
   "name": "python",
   "nbconvert_exporter": "python",
   "pygments_lexer": "ipython3",
   "version": "3.6.7"
  }
 },
 "nbformat": 4,
 "nbformat_minor": 2
}
