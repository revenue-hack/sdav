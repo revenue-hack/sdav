{
 "cells": [
  {
   "cell_type": "code",
   "execution_count": 1,
   "metadata": {},
   "outputs": [],
   "source": [
    "import json\n",
    "import pandas as pd\n",
    "import numpy as np\n",
    "from skimage import io\n",
    "from skimage import img_as_ubyte\n",
    "from skimage import color\n",
    "import util"
   ]
  },
  {
   "cell_type": "code",
   "execution_count": 2,
   "metadata": {},
   "outputs": [],
   "source": [
    "REQUEST = json.dumps({\n",
    "'path' : {},\n",
    "'args' : {}\n",
    "})"
   ]
  },
  {
   "cell_type": "code",
   "execution_count": 3,
   "metadata": {},
   "outputs": [],
   "source": [
    "# ## 富士山の座標\n",
    "# z=\"13\"\n",
    "# x=\"7252\"\n",
    "# y=\"3234\""
   ]
  },
  {
   "cell_type": "markdown",
   "metadata": {},
   "source": [
    "# tellusAPIの画像を取得するだけのAPI"
   ]
  },
  {
   "cell_type": "code",
   "execution_count": 4,
   "metadata": {},
   "outputs": [
    {
     "name": "stdout",
     "output_type": "stream",
     "text": [
      "ERROR: Input format error. please input `/img/[img_type]/[z]/[x]/[y]`\n",
      "ex. http://localhost:8822/img/osm/13/7252/3234\n"
     ]
    }
   ],
   "source": [
    "# GET /img/:img_type/:z/:x/:y\n",
    "\n",
    "# 読み取り\n",
    "request = json.loads(REQUEST)\n",
    "\n",
    "# 必要項目抽出\n",
    "img_type = request['path'].get('img_type')\n",
    "x = request['path'].get('x')\n",
    "y = request['path'].get('y')\n",
    "z = request['path'].get('z')\n",
    "\n",
    "if util.input_validation_check(x, y, z, img_type):\n",
    "    img_np = util.get_image_using_tellus_api(x, y, z, img_type)\n",
    "    if len(img_np) != 0:\n",
    "        img_base64 = util.make_base64_image(img_np)\n",
    "        print('<html><img src=\"data:image/png;base64, {}\" /></html>'.format(img_base64))\n",
    "    else:\n",
    "        pass"
   ]
  },
  {
   "cell_type": "code",
   "execution_count": 5,
   "metadata": {},
   "outputs": [
    {
     "name": "stdout",
     "output_type": "stream",
     "text": [
      "{\"headers\": {\"Content-Type\": \"text/html\"}, \"status\": 201}\n"
     ]
    }
   ],
   "source": [
    "# ResponseInfo GET /img/:img_type/:z/:x/:y\n",
    "print(json.dumps({\"headers\" : {\"Content-Type\" : \"text/html\"},\"status\" : 201}))"
   ]
  },
  {
   "cell_type": "markdown",
   "metadata": {},
   "source": [
    "# NDSI画像を返すAPI"
   ]
  },
  {
   "cell_type": "code",
   "execution_count": 6,
   "metadata": {},
   "outputs": [],
   "source": [
    "def ditect_snow(img):\n",
    "    # グレイ変換\n",
    "    img_gray_01 = color.rgb2gray(img)\n",
    "    # 値のレンジを変更(0-1 -> 0-255)\n",
    "    img_gray = img_as_ubyte(img_gray_01)\n",
    "\n",
    "    # しきい値処理\n",
    "    height, width= img_gray.shape\n",
    "    img_binary = np.zeros((height, width)) # 初期化\n",
    "    img_binary = img_gray < 230 # しきい値にもとづいて，2値化処理実行\n",
    "\n",
    "    #雪だけをマスキング\n",
    "    img_msk_rev = img.copy()\n",
    "    img_msk_rev[~img_binary] = 40\n",
    "    return img_msk_rev, img_binary"
   ]
  },
  {
   "cell_type": "code",
   "execution_count": 7,
   "metadata": {},
   "outputs": [],
   "source": [
    "def ditect_ndsi(img_band2, img_band4):\n",
    "    # NDSI（Normalized Difference Snow Index）を計算\n",
    "    img_NDSI = (img_band2 - img_band4) / (img_band2 + img_band4)  # band4ではなく5を使わなくてはいけない？\n",
    "\n",
    "    # 最大最小を制限\n",
    "    img_NDSI = np.clip(img_NDSI, 0, 1)\n",
    "\n",
    "    return img_NDSI"
   ]
  },
  {
   "cell_type": "code",
   "execution_count": 8,
   "metadata": {},
   "outputs": [
    {
     "name": "stdout",
     "output_type": "stream",
     "text": [
      "ERROR: Input format error. please input `/img/[img_type]/[z]/[x]/[y]`\n",
      "ex. http://localhost:8822/img/osm/13/7252/3234\n"
     ]
    }
   ],
   "source": [
    "# GET /ndsi_img/:z/:x/:y\n",
    "\n",
    "# 読み取り\n",
    "request = json.loads(REQUEST)\n",
    "\n",
    "# 必要項目抽出\n",
    "x = request['path'].get('x')\n",
    "y = request['path'].get('y')\n",
    "z = request['path'].get('z')\n",
    "# z=\"13\"\n",
    "# x=\"7252\"\n",
    "# y=\"3234\"\n",
    "\n",
    "if util.input_validation_check(x, y, z):\n",
    "#     try:        \n",
    "    imgs = util.get_images_using_tellus_api(x, y, z)\n",
    "    img_natural = imgs[1]\n",
    "    img_band2 = imgs[4]\n",
    "    img_band4 = imgs[6]\n",
    "\n",
    "    # 変換処理\n",
    "    img_msk_rev, img_binary = ditect_snow(img_natural)\n",
    "\n",
    "    # #雪以外をマスキングした場合\n",
    "    img_NDSI = ditect_ndsi(img_band2, img_band4)\n",
    "    img_NDSI[img_binary] = 0\n",
    "\n",
    "    # 表示のために型変換\n",
    "    img_base64 = util.make_base64_image(img_NDSI)\n",
    "\n",
    "    # 出力\n",
    "    print('<html><img src=\"data:image/png;base64, {}\" /></html>'.format(img_base64))\n",
    "\n",
    "#     except:\n",
    "#         pass"
   ]
  },
  {
   "cell_type": "code",
   "execution_count": 9,
   "metadata": {},
   "outputs": [
    {
     "name": "stdout",
     "output_type": "stream",
     "text": [
      "{\"headers\": {\"Content-Type\": \"text/html\"}, \"status\": 201}\n"
     ]
    }
   ],
   "source": [
    "# ResponseInfo GET  /ndsi_img/:z/:x/:y\n",
    "print(json.dumps({\"headers\" : {\"Content-Type\" : \"text/html\"},\"status\" : 201}))"
   ]
  }
 ],
 "metadata": {
  "kernelspec": {
   "display_name": "Python 3",
   "language": "python",
   "name": "python3"
  },
  "language_info": {
   "codemirror_mode": {
    "name": "ipython",
    "version": 3
   },
   "file_extension": ".py",
   "mimetype": "text/x-python",
   "name": "python",
   "nbconvert_exporter": "python",
   "pygments_lexer": "ipython3",
   "version": "3.6.7"
  }
 },
 "nbformat": 4,
 "nbformat_minor": 2
}
