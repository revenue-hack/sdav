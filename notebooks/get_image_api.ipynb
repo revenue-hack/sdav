{
 "cells": [
  {
   "cell_type": "code",
   "execution_count": 1,
   "metadata": {},
   "outputs": [],
   "source": [
    "import json\n",
    "import pandas as pd\n",
    "import numpy as np\n",
    "from skimage import io\n",
    "from skimage import img_as_ubyte\n",
    "from skimage import color\n",
    "\n",
    "import io as bytes_io\n",
    "import base64"
   ]
  },
  {
   "cell_type": "code",
   "execution_count": 2,
   "metadata": {},
   "outputs": [],
   "source": [
    "REQUEST = json.dumps({\n",
    "'path' : {},\n",
    "'args' : {}\n",
    "})"
   ]
  },
  {
   "cell_type": "code",
   "execution_count": 3,
   "metadata": {},
   "outputs": [],
   "source": [
    "URL_DOMAIN=\"https://img.opf-dev.jp\"\n",
    "img_types=[\"osm\",\n",
    "                    \"landsat8\",\n",
    "                    \"landsat8-201808\",\n",
    "                    \"true\",\n",
    "                    \"natural\",\n",
    "                    \"av2ori/band1\",\n",
    "                    \"av2ori/band2\",\n",
    "                    \"av2ori/band3\",\n",
    "                    \"av2ori/band4\"]\n"
   ]
  },
  {
   "cell_type": "code",
   "execution_count": 4,
   "metadata": {},
   "outputs": [],
   "source": [
    "# 表示例\n",
    "# img_type = img_types[0]\n",
    "# ## 富士山の座標\n",
    "# z=\"13\"\n",
    "# x=\"7252\"\n",
    "# y=\"3234\"\n",
    "# url = \"{}/{}/{}/{}/{}.png\".format(URL_DOMAIN, img_type, z, x, y)\n",
    "# img = io.imread(url)"
   ]
  },
  {
   "cell_type": "markdown",
   "metadata": {},
   "source": [
    "# 共通して使うutil系"
   ]
  },
  {
   "cell_type": "code",
   "execution_count": 6,
   "metadata": {},
   "outputs": [],
   "source": [
    "def validation_check(x, y, z, img_type=\"osm\"):\n",
    "    \"\"\"バリデーションチェック\"\"\"\n",
    "    \n",
    "    if not img_type or not x or not y or not z: #or ~x or ~y or ~z:\n",
    "        print(\"ERROR: Input format error. please input `/img/[img_type]/[z]/[x]/[y]`\")\n",
    "        print(\"ex. http://localhost:8822/img/osm/13/7252/3234\")\n",
    "        return False\n",
    "    \n",
    "    elif img_type not in img_types:\n",
    "        print(\"ERROR: img_type format error. please input next format`/img/[img_type]/[z]/[x]/[y]`\")\n",
    "        print(\"img_types only allows [{}]\".format(\", \".join(img_types)))\n",
    "        return False\n",
    "    \n",
    "    elif not (x+y+z).isdecimal():\n",
    "        print(\"ERROR: x/y/z format error\")\n",
    "        print(\"x/y/z only allows  [0, 1, 2, 3, 4, 5, 6, 7, 8, 9]\")\n",
    "        return False\n",
    "\n",
    "    else:\n",
    "        return True\n",
    "    "
   ]
  },
  {
   "cell_type": "code",
   "execution_count": null,
   "metadata": {},
   "outputs": [],
   "source": []
  },
  {
   "cell_type": "markdown",
   "metadata": {},
   "source": [
    "# そのまま公開されている画像を持ってくるだけのAPI"
   ]
  },
  {
   "cell_type": "code",
   "execution_count": 7,
   "metadata": {},
   "outputs": [
    {
     "name": "stdout",
     "output_type": "stream",
     "text": [
      "ERROR: Input format error. please input `/img/[img_type]/[z]/[x]/[y]`\n",
      "ex. http://localhost:8822/img/osm/13/7252/3234\n"
     ]
    }
   ],
   "source": [
    "# GET /img/:img_type/:z/:x/:y\n",
    "\n",
    "# 読み取り\n",
    "request = json.loads(REQUEST)\n",
    "\n",
    "# 必要項目抽出\n",
    "img_type = request['path'].get('img_type')\n",
    "x = request['path'].get('x')\n",
    "y = request['path'].get('y')\n",
    "z = request['path'].get('z')\n",
    "\n",
    "if validation_check(x, y, z, img_type=img_type):\n",
    "    try:\n",
    "        #imageをAPIからgetし、numpyに変換\n",
    "        img_np = io.imread(\"https://img.opf-dev.jp/{}/{}/{}/{}.png\".format(img_type, z, x, y))\n",
    "\n",
    "        # ここで変換処理を噛ませる\n",
    "        # hoge()\n",
    "\n",
    "        # 表示のために型変換\n",
    "        img_bytes = bytes_io.BytesIO() #空のインスタンスを作る\n",
    "        io.imsave(img_bytes, img_np)\n",
    "        img_base64 = base64.b64encode(img_bytes.getvalue()).decode('utf-8')\n",
    "\n",
    "        # 出力\n",
    "        print('<img src=\"data:image/png;base64, {}\" />'.format(img_base64))\n",
    "    except:\n",
    "        print(\"ERROR: Image not found\")"
   ]
  },
  {
   "cell_type": "code",
   "execution_count": null,
   "metadata": {},
   "outputs": [],
   "source": []
  },
  {
   "cell_type": "markdown",
   "metadata": {},
   "source": [
    "# NDSI画像を取得するためのAPI"
   ]
  },
  {
   "cell_type": "code",
   "execution_count": 8,
   "metadata": {},
   "outputs": [],
   "source": [
    "def ditect_snow(img):\n",
    "    # グレイ変換\n",
    "    img_gray_01 = color.rgb2gray(img)\n",
    "    # 値のレンジを変更(0-1 -> 0-255)\n",
    "    img_gray = img_as_ubyte(img_gray_01)\n",
    "\n",
    "    # しきい値処理\n",
    "    height, width= img_gray.shape\n",
    "    img_binary = np.zeros((height, width)) # 初期化\n",
    "    img_binary = img_gray < 230 # しきい値にもとづいて，2値化処理実行\n",
    "\n",
    "    #雪だけをマスキング\n",
    "    img_msk_rev = img.copy()\n",
    "    img_msk_rev[~img_binary] = 40\n",
    "    return img_msk_rev, img_binary"
   ]
  },
  {
   "cell_type": "code",
   "execution_count": 9,
   "metadata": {},
   "outputs": [],
   "source": [
    "def ditect_ndsi(img_band2, img_band4):\n",
    "    # NDSI（Normalized Difference Snow Index）を計算\n",
    "    img_NDSI = (img_band2 - img_band4) / (img_band2 + img_band4)  # band4ではなく5を使わなくてはいけない？\n",
    "\n",
    "    # 最大最小を制限\n",
    "    img_NDSI = np.clip(img_NDSI, 0, 1)\n",
    "\n",
    "    return img_NDSI"
   ]
  },
  {
   "cell_type": "code",
   "execution_count": 16,
   "metadata": {},
   "outputs": [
    {
     "name": "stdout",
     "output_type": "stream",
     "text": [
      "ERROR: Input format error. please input `/img/[img_type]/[z]/[x]/[y]`\n",
      "ex. http://localhost:8822/img/osm/13/7252/3234\n"
     ]
    }
   ],
   "source": [
    "# GET /ndsi_img/:z/:x/:y\n",
    "\n",
    "# 読み取り\n",
    "request = json.loads(REQUEST)\n",
    "\n",
    "# 必要項目抽出\n",
    "x = request['path'].get('x')\n",
    "y = request['path'].get('y')\n",
    "z = request['path'].get('z')\n",
    "# z=\"13\"\n",
    "# x=\"7252\"\n",
    "# y=\"3234\"\n",
    "\n",
    "if validation_check(x, y, z):\n",
    "    try:\n",
    "        urls=[\"{}/{}/{}/{}/{}.png\".format(URL_DOMAIN, img_type, z, x, y) for img_type in img_types]\n",
    "        imgs = np.array([io.imread(url) for url in urls])\n",
    "\n",
    "        band2 = imgs[6]\n",
    "        band4 = imgs[8]\n",
    "\n",
    "        # 変換処理\n",
    "        img_msk_rev, img_binary = ditect_snow(imgs[1])\n",
    "\n",
    "        # #雪以外をマスキングした場合\n",
    "        img_NDSI = ditect_ndsi(band2, band4)\n",
    "        img_NDSI[img_binary] = 0\n",
    "\n",
    "        # 表示のために型変換\n",
    "        img_bytes = bytes_io.BytesIO() #空のインスタンスを作る\n",
    "        io.imsave(img_bytes, img_NDSI)\n",
    "        img_base64 = base64.b64encode(img_bytes.getvalue()).decode('utf-8')\n",
    "\n",
    "        # 出力\n",
    "        print('<img src=\"data:image/png;base64, {}\" />'.format(img_base64))\n",
    "    except:\n",
    "        print(\"ERROR: Image not found\")"
   ]
  },
  {
   "cell_type": "code",
   "execution_count": null,
   "metadata": {},
   "outputs": [],
   "source": []
  }
 ],
 "metadata": {
  "kernelspec": {
   "display_name": "Python 3",
   "language": "python",
   "name": "python3"
  },
  "language_info": {
   "codemirror_mode": {
    "name": "ipython",
    "version": 3
   },
   "file_extension": ".py",
   "mimetype": "text/x-python",
   "name": "python",
   "nbconvert_exporter": "python",
   "pygments_lexer": "ipython3",
   "version": "3.6.7"
  }
 },
 "nbformat": 4,
 "nbformat_minor": 2
}
